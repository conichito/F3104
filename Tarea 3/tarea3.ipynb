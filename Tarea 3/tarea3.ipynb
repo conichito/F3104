{
  "nbformat": 4,
  "nbformat_minor": 0,
  "metadata": {
    "colab": {
      "provenance": [],
      "authorship_tag": "ABX9TyNR08LG/mkp4nWcEzN46yNd",
      "include_colab_link": true
    },
    "kernelspec": {
      "name": "python3",
      "display_name": "Python 3"
    },
    "language_info": {
      "name": "python"
    }
  },
  "cells": [
    {
      "cell_type": "markdown",
      "metadata": {
        "id": "view-in-github",
        "colab_type": "text"
      },
      "source": [
        "<a href=\"https://colab.research.google.com/github/conichito/F3104/blob/main/Tarea%203/tarea3.ipynb\" target=\"_parent\"><img src=\"https://colab.research.google.com/assets/colab-badge.svg\" alt=\"Open In Colab\"/></a>"
      ]
    },
    {
      "cell_type": "code",
      "source": [
        "# Importamos librerias\n",
        "\n",
        "import numpy as np"
      ],
      "metadata": {
        "id": "4x8s4LziMezK"
      },
      "execution_count": 124,
      "outputs": []
    },
    {
      "cell_type": "markdown",
      "source": [
        "#P1"
      ],
      "metadata": {
        "id": "LFDq63xNREm-"
      }
    },
    {
      "cell_type": "code",
      "source": [
        "N=3\n",
        "A = np.empty((N,N))\n",
        "L = np.empty((N,N))\n",
        "x = np.empty(N)\n",
        "y = np.empty(N)\n",
        "A = np.array([[0., 3., 2.],\n",
        "              [5., 0., 1.],\n",
        "              [1., 1., 0.]])\n",
        "b = np.array([20.,27.,6.])\n",
        "\n",
        "print('A=')\n",
        "for row in A:         # print A\n",
        "    for item in row:\n",
        "        print('%.2f      ' % item, end=\"\")\n",
        "    print()\n",
        "\n",
        "print('b=')\n",
        "for item in b:         # print b\n",
        "    print('%.2f      ' % item, end=\"\")\n",
        "print()"
      ],
      "metadata": {
        "colab": {
          "base_uri": "https://localhost:8080/"
        },
        "id": "srrz6fHU_5oQ",
        "outputId": "7d70a05b-708d-434b-c3bc-9fd4f2633f70"
      },
      "execution_count": 125,
      "outputs": [
        {
          "output_type": "stream",
          "name": "stdout",
          "text": [
            "A=\n",
            "0.00      3.00      2.00      \n",
            "5.00      0.00      1.00      \n",
            "1.00      1.00      0.00      \n",
            "b=\n",
            "20.00      27.00      6.00      \n"
          ]
        }
      ]
    },
    {
      "cell_type": "code",
      "source": [
        "# Definimos P inicialmente como matriz I\n",
        "P = np.eye(N)\n",
        "\n",
        "for j in range(N):    # j es el indice de la columna\n",
        "    for i in range(1,j+1):\n",
        "        A[i,j] -= np.dot(A[i,:i],A[:i,j])\n",
        "    pivot = A[j,j]\n",
        "    for i in range(j+1,N):\n",
        "        A[i,j] -= np.dot(A[i,:j],A[:j,j])\n",
        "    pivot_fila = np.argmax(np.abs(A[j:, j])) + j\n",
        "    if pivot_fila != j:\n",
        "        A[[j, pivot_fila], :] = A[[pivot_fila, j], :]\n",
        "        P[[j, pivot_fila], :] = P[[pivot_fila, j], :] #Registramos los pivoteos dentro de la matriz P\n",
        "    for i in range(j+1,N):\n",
        "        A[i,j] = A[i,j]/A[j,j]\n",
        "print('A_fin=')\n",
        "for row in A:         # imprimimos el A final\n",
        "    for item in row:\n",
        "        print('%.2f      ' % item, end=\"\")\n",
        "    print()\n",
        "\n",
        "print('P=')\n",
        "for row in P:         # imprimimos el P final\n",
        "    for item in row:\n",
        "        print('%.2f      ' % item, end=\"\")\n",
        "    print()"
      ],
      "metadata": {
        "id": "hNibuKvGRGyA",
        "colab": {
          "base_uri": "https://localhost:8080/"
        },
        "outputId": "5143e2dd-2d3d-407d-b232-dfe3e2da20aa"
      },
      "execution_count": 126,
      "outputs": [
        {
          "output_type": "stream",
          "name": "stdout",
          "text": [
            "A_fin=\n",
            "5.00      0.00      1.00      \n",
            "0.00      3.00      2.00      \n",
            "0.20      0.33      -0.87      \n",
            "P=\n",
            "0.00      1.00      0.00      \n",
            "1.00      0.00      0.00      \n",
            "0.00      0.00      1.00      \n"
          ]
        }
      ]
    },
    {
      "cell_type": "code",
      "source": [
        "# Here we separate L and U\n",
        "for i in range(N):\n",
        "    for j in range(N):\n",
        "        if i == j:\n",
        "            L[i,j] = 1\n",
        "        else:\n",
        "            if i > j:\n",
        "                L[i,j] = A[i,j]\n",
        "                A[i,j] = 0\n",
        "            else:\n",
        "                L[i,j] = 0\n",
        "print('L=')\n",
        "for row in L:         # a little print function\n",
        "    for item in row:\n",
        "        print('%.2f      ' % item, end=\"\")\n",
        "    print()\n",
        "print('U=')\n",
        "for row in A:         # a little print function\n",
        "    for item in row:\n",
        "        print('%.2f      ' % item, end=\"\")\n",
        "    print()"
      ],
      "metadata": {
        "colab": {
          "base_uri": "https://localhost:8080/"
        },
        "id": "rRauQvpLATgU",
        "outputId": "54ddaaf9-e906-4965-8e5b-e32f685a9f59"
      },
      "execution_count": 127,
      "outputs": [
        {
          "output_type": "stream",
          "name": "stdout",
          "text": [
            "L=\n",
            "1.00      0.00      0.00      \n",
            "0.00      1.00      0.00      \n",
            "0.20      0.33      1.00      \n",
            "U=\n",
            "5.00      0.00      1.00      \n",
            "0.00      3.00      2.00      \n",
            "0.00      0.00      -0.87      \n"
          ]
        }
      ]
    },
    {
      "cell_type": "code",
      "source": [
        "# Definimos b_prime como P*b\n",
        "b_prime = np.dot(P, b)\n",
        "print('b_prime=', b_prime)"
      ],
      "metadata": {
        "colab": {
          "base_uri": "https://localhost:8080/"
        },
        "id": "0TvmBlcNJv6A",
        "outputId": "b2fc76b0-bf22-4af8-acbc-d051b4b59455"
      },
      "execution_count": 128,
      "outputs": [
        {
          "output_type": "stream",
          "name": "stdout",
          "text": [
            "b_prime= [27. 20.  6.]\n"
          ]
        }
      ]
    },
    {
      "cell_type": "code",
      "source": [
        "for i in range(N):\n",
        "    y[i] = b_prime[i] - np.dot(L[i,:i],y[:i])\n",
        "print('y=',y)"
      ],
      "metadata": {
        "colab": {
          "base_uri": "https://localhost:8080/"
        },
        "id": "Kon733uIG9lF",
        "outputId": "8d584fca-3c0d-4fa1-fbbd-5cf0cd8ff77f"
      },
      "execution_count": 129,
      "outputs": [
        {
          "output_type": "stream",
          "name": "stdout",
          "text": [
            "y= [27.         20.         -6.06666667]\n"
          ]
        }
      ]
    },
    {
      "cell_type": "code",
      "source": [
        "for i in range(N-1, -1, -1):\n",
        "    x[i] = (y[i] - np.dot(A[i, i+1:], x[i+1:])) / A[i, i]\n",
        "print('x=',x)"
      ],
      "metadata": {
        "colab": {
          "base_uri": "https://localhost:8080/"
        },
        "id": "40Ec6ie_H73s",
        "outputId": "26b112c5-bfed-4e24-f2bc-0f87a8ace095"
      },
      "execution_count": 130,
      "outputs": [
        {
          "output_type": "stream",
          "name": "stdout",
          "text": [
            "x= [4. 2. 7.]\n"
          ]
        }
      ]
    },
    {
      "cell_type": "code",
      "source": [
        "# Calcularmos el determinante de la matriz A\n",
        "\n",
        "det_P = -1 # Por enunciado\n",
        "det_L = 1 # L tiene valores 1 en su diagonal\n",
        "det_U = 1 # Definimos como 1 por mientras antes de ciclo for\n",
        "\n",
        "for i in range(N):\n",
        "  det_U *= A[i,i] # Multiplicamos diagonal\n",
        "\n",
        "print('Determinante de P =', det_P)\n",
        "print('Determinante de L =', det_L)\n",
        "print('Determinante de U =', det_U)\n",
        "print('Determinante de A =', (det_L*det_U)/det_P)"
      ],
      "metadata": {
        "colab": {
          "base_uri": "https://localhost:8080/"
        },
        "id": "JVboA7L-Ltpi",
        "outputId": "28ef4a3a-cb1b-4be7-90fe-1777774e281c"
      },
      "execution_count": 131,
      "outputs": [
        {
          "output_type": "stream",
          "name": "stdout",
          "text": [
            "Determinante de P = -1\n",
            "Determinante de L = 1\n",
            "Determinante de U = -13.0\n",
            "Determinante de A = 13.0\n"
          ]
        }
      ]
    },
    {
      "cell_type": "markdown",
      "source": [
        "#P2"
      ],
      "metadata": {
        "id": "6CPm0ggTZFi-"
      }
    },
    {
      "cell_type": "code",
      "source": [],
      "metadata": {
        "id": "LZucVETpZMDW"
      },
      "execution_count": null,
      "outputs": []
    }
  ]
}