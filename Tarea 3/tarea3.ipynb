{
  "nbformat": 4,
  "nbformat_minor": 0,
  "metadata": {
    "colab": {
      "provenance": [],
      "authorship_tag": "ABX9TyMkyRD6F0Mp6/g5VCeBChb/",
      "include_colab_link": true
    },
    "kernelspec": {
      "name": "python3",
      "display_name": "Python 3"
    },
    "language_info": {
      "name": "python"
    }
  },
  "cells": [
    {
      "cell_type": "markdown",
      "metadata": {
        "id": "view-in-github",
        "colab_type": "text"
      },
      "source": [
        "<a href=\"https://colab.research.google.com/github/conichito/F3104/blob/main/Tarea%203/tarea3.ipynb\" target=\"_parent\"><img src=\"https://colab.research.google.com/assets/colab-badge.svg\" alt=\"Open In Colab\"/></a>"
      ]
    },
    {
      "cell_type": "code",
      "source": [
        "# Importamos librerias\n",
        "import numpy as np\n",
        "import matplotlib.pyplot as plt"
      ],
      "metadata": {
        "id": "4x8s4LziMezK"
      },
      "execution_count": 431,
      "outputs": []
    },
    {
      "cell_type": "markdown",
      "source": [
        "#P1"
      ],
      "metadata": {
        "id": "LFDq63xNREm-"
      }
    },
    {
      "cell_type": "code",
      "source": [
        "N=3\n",
        "A = np.empty((N,N))\n",
        "L = np.empty((N,N))\n",
        "x = np.empty(N)\n",
        "y = np.empty(N)\n",
        "A = np.array([[0., 3., 2.],\n",
        "              [5., 0., 1.],\n",
        "              [1., 1., 0.]])\n",
        "b = np.array([20.,27.,6.])\n",
        "\n",
        "print('A=')\n",
        "for row in A:         # print A\n",
        "    for item in row:\n",
        "        print('%.2f      ' % item, end=\"\")\n",
        "    print()\n",
        "\n",
        "print('b=')\n",
        "for item in b:         # print b\n",
        "    print('%.2f      ' % item, end=\"\")\n",
        "print()"
      ],
      "metadata": {
        "colab": {
          "base_uri": "https://localhost:8080/"
        },
        "id": "srrz6fHU_5oQ",
        "outputId": "ab1cbbe7-4e7c-4896-ea1f-987185e38c51"
      },
      "execution_count": 432,
      "outputs": [
        {
          "output_type": "stream",
          "name": "stdout",
          "text": [
            "A=\n",
            "0.00      3.00      2.00      \n",
            "5.00      0.00      1.00      \n",
            "1.00      1.00      0.00      \n",
            "b=\n",
            "20.00      27.00      6.00      \n"
          ]
        }
      ]
    },
    {
      "cell_type": "code",
      "source": [
        "# Definimos P inicialmente como matriz I\n",
        "P = np.eye(N)\n",
        "\n",
        "for j in range(N):    # j es el indice de la columna\n",
        "    for i in range(1,j+1):\n",
        "        A[i,j] -= np.dot(A[i,:i],A[:i,j])\n",
        "    pivot = A[j,j]\n",
        "    for i in range(j+1,N):\n",
        "        A[i,j] -= np.dot(A[i,:j],A[:j,j])\n",
        "    pivot_fila = np.argmax(np.abs(A[j:, j])) + j\n",
        "    if pivot_fila != j:\n",
        "        A[[j, pivot_fila], :] = A[[pivot_fila, j], :]\n",
        "        P[[j, pivot_fila], :] = P[[pivot_fila, j], :] #Registramos los pivoteos dentro de la matriz P\n",
        "    for i in range(j+1,N):\n",
        "        A[i,j] = A[i,j]/A[j,j]\n",
        "print('A_fin=')\n",
        "for row in A:         # imprimimos el A final\n",
        "    for item in row:\n",
        "        print('%.2f      ' % item, end=\"\")\n",
        "    print()\n",
        "\n",
        "print('P=')\n",
        "for row in P:         # imprimimos el P final\n",
        "    for item in row:\n",
        "        print('%.2f      ' % item, end=\"\")\n",
        "    print()"
      ],
      "metadata": {
        "id": "hNibuKvGRGyA",
        "colab": {
          "base_uri": "https://localhost:8080/"
        },
        "outputId": "0d58dd7d-437b-4b13-c9dc-1afa3aa30496"
      },
      "execution_count": 433,
      "outputs": [
        {
          "output_type": "stream",
          "name": "stdout",
          "text": [
            "A_fin=\n",
            "5.00      0.00      1.00      \n",
            "0.00      3.00      2.00      \n",
            "0.20      0.33      -0.87      \n",
            "P=\n",
            "0.00      1.00      0.00      \n",
            "1.00      0.00      0.00      \n",
            "0.00      0.00      1.00      \n"
          ]
        }
      ]
    },
    {
      "cell_type": "code",
      "source": [
        "# Here we separate L and U\n",
        "for i in range(N):\n",
        "    for j in range(N):\n",
        "        if i == j:\n",
        "            L[i,j] = 1\n",
        "        else:\n",
        "            if i > j:\n",
        "                L[i,j] = A[i,j]\n",
        "                A[i,j] = 0\n",
        "            else:\n",
        "                L[i,j] = 0\n",
        "print('L=')\n",
        "for row in L:         # a little print function\n",
        "    for item in row:\n",
        "        print('%.2f      ' % item, end=\"\")\n",
        "    print()\n",
        "print('U=')\n",
        "for row in A:         # a little print function\n",
        "    for item in row:\n",
        "        print('%.2f      ' % item, end=\"\")\n",
        "    print()"
      ],
      "metadata": {
        "colab": {
          "base_uri": "https://localhost:8080/"
        },
        "id": "rRauQvpLATgU",
        "outputId": "d8b3dae1-5187-425c-90b6-975bdb6ca377"
      },
      "execution_count": 434,
      "outputs": [
        {
          "output_type": "stream",
          "name": "stdout",
          "text": [
            "L=\n",
            "1.00      0.00      0.00      \n",
            "0.00      1.00      0.00      \n",
            "0.20      0.33      1.00      \n",
            "U=\n",
            "5.00      0.00      1.00      \n",
            "0.00      3.00      2.00      \n",
            "0.00      0.00      -0.87      \n"
          ]
        }
      ]
    },
    {
      "cell_type": "code",
      "source": [
        "# Definimos b_prime como P*b\n",
        "b_prime = np.dot(P, b)\n",
        "print('b_prime=', b_prime)"
      ],
      "metadata": {
        "colab": {
          "base_uri": "https://localhost:8080/"
        },
        "id": "0TvmBlcNJv6A",
        "outputId": "1a940b84-7ff8-4203-a568-27c740da08c5"
      },
      "execution_count": 435,
      "outputs": [
        {
          "output_type": "stream",
          "name": "stdout",
          "text": [
            "b_prime= [27. 20.  6.]\n"
          ]
        }
      ]
    },
    {
      "cell_type": "code",
      "source": [
        "for i in range(N):\n",
        "    y[i] = b_prime[i] - np.dot(L[i,:i],y[:i])\n",
        "print('y=',y)"
      ],
      "metadata": {
        "colab": {
          "base_uri": "https://localhost:8080/"
        },
        "id": "Kon733uIG9lF",
        "outputId": "5ddb9440-f02d-4d16-d315-70c12b20d9db"
      },
      "execution_count": 436,
      "outputs": [
        {
          "output_type": "stream",
          "name": "stdout",
          "text": [
            "y= [27.         20.         -6.06666667]\n"
          ]
        }
      ]
    },
    {
      "cell_type": "code",
      "source": [
        "for i in range(N-1, -1, -1):\n",
        "    x[i] = (y[i] - np.dot(A[i, i+1:], x[i+1:])) / A[i, i]\n",
        "print('x=',x)"
      ],
      "metadata": {
        "colab": {
          "base_uri": "https://localhost:8080/"
        },
        "id": "40Ec6ie_H73s",
        "outputId": "1c7f64b6-91c6-4725-ce43-d5a3a9a8414f"
      },
      "execution_count": 437,
      "outputs": [
        {
          "output_type": "stream",
          "name": "stdout",
          "text": [
            "x= [4. 2. 7.]\n"
          ]
        }
      ]
    },
    {
      "cell_type": "code",
      "source": [
        "# Calcularmos el determinante de la matriz A\n",
        "\n",
        "det_P = -1 # Por enunciado\n",
        "det_L = 1 # L tiene valores 1 en su diagonal\n",
        "det_U = 1 # Definimos como 1 por mientras antes de ciclo for\n",
        "\n",
        "for i in range(N):\n",
        "  det_U *= A[i,i] # Multiplicamos diagonal\n",
        "\n",
        "print('Determinante de P =', det_P)\n",
        "print('Determinante de L =', det_L)\n",
        "print('Determinante de U =', det_U)\n",
        "print('Determinante de A =', (det_L*det_U)/det_P)"
      ],
      "metadata": {
        "colab": {
          "base_uri": "https://localhost:8080/"
        },
        "id": "JVboA7L-Ltpi",
        "outputId": "7f63a6c1-5f7d-41fd-8deb-e8548dc51541"
      },
      "execution_count": 438,
      "outputs": [
        {
          "output_type": "stream",
          "name": "stdout",
          "text": [
            "Determinante de P = -1\n",
            "Determinante de L = 1\n",
            "Determinante de U = -13.0\n",
            "Determinante de A = 13.0\n"
          ]
        }
      ]
    },
    {
      "cell_type": "markdown",
      "source": [
        "#P2"
      ],
      "metadata": {
        "id": "6CPm0ggTZFi-"
      }
    },
    {
      "cell_type": "code",
      "source": [
        "# Definimos P(x)\n",
        "def P(x):\n",
        "  return (x**7\n",
        "        - 3*x**6\n",
        "        - 8*x**5\n",
        "        + 20*x**4\n",
        "        + 15*x**3\n",
        "        - 13*x**2\n",
        "        + 24*x - 30)"
      ],
      "metadata": {
        "id": "LZucVETpZMDW"
      },
      "execution_count": 439,
      "outputs": []
    },
    {
      "cell_type": "code",
      "source": [
        "# Graficamos P(x)\n",
        "a, b, N = -2.5, 3.5, 100\n",
        "x = np.linspace(a, b, N)\n",
        "y = P(x)\n",
        "\n",
        "plt.plot(x, y, color='blue')\n",
        "plt.title('Graficando $f(x)$')\n",
        "plt.xlabel(\"$x$\", fontsize=14)\n",
        "plt.ylabel(\"$f(x)$\", fontsize=14)\n",
        "plt.grid(True, ls = '--', c = 'k', alpha = 0.2)\n",
        "\n",
        "plt.show()"
      ],
      "metadata": {
        "colab": {
          "base_uri": "https://localhost:8080/",
          "height": 479
        },
        "id": "uUWkdBCpbwsn",
        "outputId": "ab5c4a3b-d1dc-4ed9-eb68-dce951b19872"
      },
      "execution_count": 440,
      "outputs": [
        {
          "output_type": "display_data",
          "data": {
            "text/plain": [
              "<Figure size 640x480 with 1 Axes>"
            ],
            "image/png": "[encoded data removed]"
          },
          "metadata": {}
        }
      ]
    },
    {
      "cell_type": "code",
      "source": [
        "# Se define una función para mostrar información sobre las raices encontradas\n",
        "def root_interval(l1, l2, L, function):\n",
        "    var = (l2 - l1) / L\n",
        "    delta = 1e-5\n",
        "    max_iter = int(np.log2(var/delta)) + 1\n",
        "\n",
        "    for j in range(L):\n",
        "        x1, x2 = l1 + j * var, l1 + (j + 1) * var\n",
        "        x0 = 0.5*(x1 + x2)\n",
        "        if P(x1) * P(x2) < 0:\n",
        "            root, dist, count = function(x1, x2, delta, max_iter)\n",
        "            print(f'Root: {root}')\n",
        "            f_root = P(root)\n",
        "            print(f'f(root): {f_root}')\n",
        "            print('---')\n",
        "\n",
        "    data = [dist, count, root, f_root]\n",
        "    return data"
      ],
      "metadata": {
        "id": "wwhGCXlymq2w"
      },
      "execution_count": 441,
      "outputs": []
    },
    {
      "cell_type": "code",
      "source": [
        "# Método Newton-Raphson\n",
        "def dP(x):\n",
        "    return (7*x**6\n",
        "        - 6*3*x**5\n",
        "        - 5*8*x**4\n",
        "       + 4*20*x**3\n",
        "       + 3*15*x**2\n",
        "       - 2*13*x\n",
        "       + 24)\n",
        "\n",
        "def find_root_nr(x1,x2, delta, max_iter):\n",
        "    f1 = P(x1)\n",
        "    count = 0\n",
        "    while np.abs(x2 - x1) > delta and count < max_iter:\n",
        "        x3 = x1 - f1 / df(x1)\n",
        "        f3 = P(x3)\n",
        "        x2, f2 = x1, f1\n",
        "        x1, f1 = x3, f3\n",
        "        count += 1\n",
        "\n",
        "    dist = x2 - x1\n",
        "    print(f'Distancia entre bordes: {dist}')\n",
        "    print(f'Numero de iteraciones: {count}')\n",
        "    return 0.5 * (x1 + x2), dist, count\n",
        "\n",
        "# Llamamos a las raices\n",
        "nr = root_interval(a, b, N, find_root_nr)"
      ],
      "metadata": {
        "colab": {
          "base_uri": "https://localhost:8080/"
        },
        "id": "FGrLWPZjfDbN",
        "outputId": "ea5199c9-c2d6-4f53-b1c5-aaa904caf995"
      },
      "execution_count": 442,
      "outputs": [
        {
          "output_type": "stream",
          "name": "stdout",
          "text": [
            "Distancia entre bordes: -6.966450971646054e-09\n",
            "Numero de iteraciones: 4\n",
            "Root: -2.1159014079761063\n",
            "f(root): -3.916656012847852e-07\n",
            "---\n",
            "Distancia entre bordes: 1.2901130386211435e-08\n",
            "Numero de iteraciones: 4\n",
            "Root: -1.8587305525317739\n",
            "f(root): -4.861702791458811e-07\n",
            "---\n",
            "Distancia entre bordes: 3.819898023338375e-06\n",
            "Numero de iteraciones: 3\n",
            "Root: 0.911358750174958\n",
            "f(root): 0.00012097026925061982\n",
            "---\n"
          ]
        }
      ]
    },
    {
      "cell_type": "code",
      "source": [
        "# Método de la secante\n",
        "\n",
        "def find_root(x1,x2, delta, max_iter):\n",
        "#    f1, f2 = f(x1), f(x2)\n",
        "    f1 = P(x1)\n",
        "    f2 = P(x2)\n",
        "    count = 0\n",
        "    while np.abs(x2 - x1) > delta and count < max_iter:\n",
        "        x3 = x1 - f1 * (x2 - x1) / (f2-f1)\n",
        "        f3 = P(x3)\n",
        "        x1, f1 = x2, f2\n",
        "        x2, f2 = x3, f3\n",
        "        count += 1\n",
        "\n",
        "    dist = x2 - x1\n",
        "    print(f'Distancia entre bordes: {dist}')\n",
        "    print(f'Numero de iteraciones: {count}')\n",
        "    return 0.5 * (x1 + x2), dist, count\n",
        "\n",
        "# Llamamos a las raices\n",
        "nr = root_interval(a, b, N, find_root)"
      ],
      "metadata": {
        "colab": {
          "base_uri": "https://localhost:8080/"
        },
        "id": "ZpewL-R_pJRq",
        "outputId": "cbefec36-859b-4fa5-b29d-4dd3783718ff"
      },
      "execution_count": 443,
      "outputs": [
        {
          "output_type": "stream",
          "name": "stdout",
          "text": [
            "Distancia entre bordes: -1.8355257491720067e-07\n",
            "Numero de iteraciones: 5\n",
            "Root: -2.11590131274646\n",
            "f(root): 1.0316272373245283e-05\n",
            "---\n",
            "Distancia entre bordes: -3.5085910488064087e-07\n",
            "Numero de iteraciones: 4\n",
            "Root: -1.8587303836148057\n",
            "f(root): -1.3217215865779508e-05\n",
            "---\n",
            "Distancia entre bordes: 2.384544254385723e-06\n",
            "Numero de iteraciones: 3\n",
            "Root: 0.9113556486043957\n",
            "f(root): -7.547227733795125e-05\n",
            "---\n"
          ]
        }
      ]
    },
    {
      "cell_type": "code",
      "source": [
        "# Método de encajonamiento\n",
        "\n",
        "def find_root_en(x1, x2, delta, max_iter):\n",
        "    f1, f2 = P(x1), P(x2)\n",
        "#    for _ in range(max_iter):\n",
        "    count = 0\n",
        "    while np.abs(x2 - x1) > delta and count < max_iter:\n",
        "        x3 = 0.5 * (x1 + x2)\n",
        "        f3 = P(x3)\n",
        "        if f1 * f3 > 0:\n",
        "            x1, f1 = x3, f3\n",
        "        else:\n",
        "            x2, f2 = x3, f3\n",
        "        count += 1\n",
        "        dist = x2 - x1\n",
        "    print(f'Distancia entre bordes: {dist}')\n",
        "    print(f'Numero de iteraciones: {count}')\n",
        "    return 0.5 * (x1 + x2), dist, count\n",
        "\n",
        "\n",
        "# Llamamos a las raices\n",
        "nr = root_interval(a, b, N, find_root_en)"
      ],
      "metadata": {
        "colab": {
          "base_uri": "https://localhost:8080/"
        },
        "id": "AorYLoZjsejn",
        "outputId": "8e3ab9a3-3afc-4441-9b2c-75281e5804cc"
      },
      "execution_count": 444,
      "outputs": [
        {
          "output_type": "stream",
          "name": "stdout",
          "text": [
            "Distancia entre bordes: 7.324218750159872e-06\n",
            "Numero de iteraciones: 13\n",
            "Root: -2.1158996582031255\n",
            "f(root): 0.00019635687134922364\n",
            "---\n",
            "Distancia entre bordes: 7.324218750159872e-06\n",
            "Numero de iteraciones: 13\n",
            "Root: -1.8587316894531252\n",
            "f(root): 8.52018142580846e-05\n",
            "---\n",
            "Distancia entre bordes: 7.3242187499378275e-06\n",
            "Numero de iteraciones: 13\n",
            "Root: 0.9113537597656248\n",
            "f(root): -0.00019510420250412608\n",
            "---\n"
          ]
        }
      ]
    },
    {
      "cell_type": "code",
      "source": [
        "# Método de posición falsa\n",
        "def find_root_pf(x1, x2, delta, ma_iter):\n",
        "    f1, f2 = P(x1), P(x2)\n",
        "    count = 0\n",
        "    while np.abs(x2 - x1) > delta and count < max_iter:\n",
        "        x3 = x1 - f1 * (x2 - x1) / (f2-f1)\n",
        "        f3 = P(x3)\n",
        "        if f1 * f3 > 0:\n",
        "            x1, f1 = x3, f3\n",
        "        else:\n",
        "            x2, f2 = x3, f3\n",
        "        count += 1\n",
        "        dist = x2 - x1\n",
        "    print(f'Distancia entre bordes: {dist}')\n",
        "    print(f'Numero de iteraciones: {count}')\n",
        "    return 0.5 * (x1 + x2), dist, count\n",
        "\n",
        "# Llamamos a las raices\n",
        "nr = root_interval(a, b, N, find_root_pf)"
      ],
      "metadata": {
        "colab": {
          "base_uri": "https://localhost:8080/"
        },
        "id": "JhfbAu2hvNQ0",
        "outputId": "1a686fca-c150-4f6f-fd56-1f4d3a4098a2"
      },
      "execution_count": 445,
      "outputs": [
        {
          "output_type": "stream",
          "name": "stdout",
          "text": [
            "Distancia entre bordes: 0.024098595507155984\n",
            "Numero de iteraciones: 13\n",
            "Root: -2.127950702246422\n",
            "f(root): -1.4441420080161507\n",
            "---\n",
            "Distancia entre bordes: 2.220446049250313e-16\n",
            "Numero de iteraciones: 12\n",
            "Root: -1.858730558982339\n",
            "f(root): 1.4210854715202004e-14\n",
            "---\n",
            "Distancia entre bordes: 4.6629367034256575e-15\n",
            "Numero de iteraciones: 7\n",
            "Root: 0.91135684021459\n",
            "f(root): -1.4921397450962104e-13\n",
            "---\n"
          ]
        }
      ]
    }
  ]
}